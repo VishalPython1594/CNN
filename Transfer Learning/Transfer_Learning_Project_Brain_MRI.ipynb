{
 "cells": [
  {
   "cell_type": "code",
   "execution_count": 1,
   "id": "4349fa91-2969-422e-9acc-21d95601d677",
   "metadata": {},
   "outputs": [],
   "source": [
    "import os\n",
    "import pandas as pd\n",
    "import numpy as np\n",
    "import matplotlib.pyplot as plt\n",
    "%matplotlib inline\n",
    "import tensorflow as tf\n",
    "from tensorflow import keras\n",
    "from keras import Sequential, Model\n",
    "from keras.layers import *"
   ]
  },
  {
   "cell_type": "code",
   "execution_count": 7,
   "id": "adf7cb86-b6b0-47db-8d08-0f5e8fc667a3",
   "metadata": {},
   "outputs": [
    {
     "name": "stdout",
     "output_type": "stream",
     "text": [
      "Collecting kaggle\n",
      "  Downloading kaggle-1.6.17.tar.gz (82 kB)\n",
      "  Preparing metadata (setup.py): started\n",
      "  Preparing metadata (setup.py): finished with status 'done'\n",
      "Requirement already satisfied: six>=1.10 in c:\\users\\dell\\anaconda3\\lib\\site-packages (from kaggle) (1.16.0)\n",
      "Requirement already satisfied: certifi>=2023.7.22 in c:\\users\\dell\\anaconda3\\lib\\site-packages (from kaggle) (2024.8.30)\n",
      "Requirement already satisfied: python-dateutil in c:\\users\\dell\\anaconda3\\lib\\site-packages (from kaggle) (2.9.0.post0)\n",
      "Requirement already satisfied: requests in c:\\users\\dell\\anaconda3\\lib\\site-packages (from kaggle) (2.32.3)\n",
      "Requirement already satisfied: tqdm in c:\\users\\dell\\anaconda3\\lib\\site-packages (from kaggle) (4.66.5)\n",
      "Requirement already satisfied: python-slugify in c:\\users\\dell\\anaconda3\\lib\\site-packages (from kaggle) (5.0.2)\n",
      "Requirement already satisfied: urllib3 in c:\\users\\dell\\anaconda3\\lib\\site-packages (from kaggle) (2.2.3)\n",
      "Requirement already satisfied: bleach in c:\\users\\dell\\anaconda3\\lib\\site-packages (from kaggle) (6.2.0)\n",
      "Requirement already satisfied: webencodings in c:\\users\\dell\\anaconda3\\lib\\site-packages (from bleach->kaggle) (0.5.1)\n",
      "Requirement already satisfied: text-unidecode>=1.3 in c:\\users\\dell\\anaconda3\\lib\\site-packages (from python-slugify->kaggle) (1.3)\n",
      "Requirement already satisfied: charset-normalizer<4,>=2 in c:\\users\\dell\\anaconda3\\lib\\site-packages (from requests->kaggle) (3.3.2)\n",
      "Requirement already satisfied: idna<4,>=2.5 in c:\\users\\dell\\anaconda3\\lib\\site-packages (from requests->kaggle) (3.10)\n",
      "Requirement already satisfied: colorama in c:\\users\\dell\\anaconda3\\lib\\site-packages (from tqdm->kaggle) (0.4.6)\n",
      "Building wheels for collected packages: kaggle\n",
      "  Building wheel for kaggle (setup.py): started\n",
      "  Building wheel for kaggle (setup.py): finished with status 'done'\n",
      "  Created wheel for kaggle: filename=kaggle-1.6.17-py3-none-any.whl size=105795 sha256=fc7ec5386e56659a1ccf99c897a03979ce5f507bc488a21a085b4618a039a374\n",
      "  Stored in directory: c:\\users\\dell\\appdata\\local\\pip\\cache\\wheels\\46\\d2\\26\\84d0a1acdb9c6baccf7d28cf06962ec80529fe1ad938489983\n",
      "Successfully built kaggle\n",
      "Installing collected packages: kaggle\n",
      "Successfully installed kaggle-1.6.17\n"
     ]
    }
   ],
   "source": [
    "!pip install kaggle"
   ]
  },
  {
   "cell_type": "code",
   "execution_count": 4,
   "id": "90f5e548-b31c-4bee-8970-2b82497bed15",
   "metadata": {},
   "outputs": [
    {
     "name": "stderr",
     "output_type": "stream",
     "text": [
      "The syntax of the command is incorrect.\n",
      "'cp' is not recognized as an internal or external command,\n",
      "operable program or batch file.\n"
     ]
    }
   ],
   "source": [
    "!mkdir -p ~/.kaggle\n",
    "!cp kaggle(1).json ~/.kaggle"
   ]
  },
  {
   "cell_type": "code",
   "execution_count": 8,
   "id": "0fa16881-1509-4f19-9a40-0708c22948e2",
   "metadata": {},
   "outputs": [
    {
     "name": "stdout",
     "output_type": "stream",
     "text": [
      "Dataset URL: https://www.kaggle.com/datasets/navoneel/brain-mri-images-for-brain-tumor-detection"
     ]
    },
    {
     "name": "stderr",
     "output_type": "stream",
     "text": [
      "\n",
      "  0%|          | 0.00/15.1M [00:00<?, ?B/s]\n",
      "  7%|6         | 1.00M/15.1M [00:01<00:22, 661kB/s]\n",
      " 13%|#3        | 2.00M/15.1M [00:01<00:10, 1.34MB/s]\n",
      " 20%|#9        | 3.00M/15.1M [00:01<00:05, 2.16MB/s]\n",
      " 33%|###3      | 5.00M/15.1M [00:02<00:02, 3.89MB/s]\n",
      " 46%|####6     | 7.00M/15.1M [00:02<00:01, 4.92MB/s]\n",
      " 53%|#####2    | 8.00M/15.1M [00:02<00:01, 5.38MB/s]\n",
      " 60%|#####9    | 9.00M/15.1M [00:02<00:01, 5.44MB/s]\n",
      " 66%|######6   | 10.0M/15.1M [00:02<00:01, 5.25MB/s]\n",
      " 73%|#######2  | 11.0M/15.1M [00:03<00:00, 5.18MB/s]\n",
      " 79%|#######9  | 12.0M/15.1M [00:03<00:00, 5.20MB/s]\n",
      " 86%|########6 | 13.0M/15.1M [00:03<00:00, 5.00MB/s]\n",
      " 93%|#########2| 14.0M/15.1M [00:03<00:00, 4.99MB/s]\n",
      " 99%|#########9| 15.0M/15.1M [00:04<00:00, 4.92MB/s]\n",
      "100%|##########| 15.1M/15.1M [00:04<00:00, 3.91MB/s]\n"
     ]
    },
    {
     "name": "stdout",
     "output_type": "stream",
     "text": [
      "\n",
      "License(s): copyright-authors\n",
      "Downloading brain-mri-images-for-brain-tumor-detection.zip to C:\\Users\\DeLL\\Documents\\Data Science\\Advanced AI\\CNN\\Transfer Learning\n",
      "\n"
     ]
    }
   ],
   "source": [
    "!kaggle datasets download -d navoneel/brain-mri-images-for-brain-tumor-detection"
   ]
  },
  {
   "cell_type": "code",
   "execution_count": 10,
   "id": "5986345c-1284-4440-ba92-3bba815340c3",
   "metadata": {},
   "outputs": [],
   "source": [
    "import zipfile\n",
    "from zipfile import ZipFile\n",
    "zip = ZipFile('brain-mri-images-for-brain-tumor-detection.zip')\n",
    "zip.extractall()\n",
    "zip.close()"
   ]
  },
  {
   "cell_type": "code",
   "execution_count": 11,
   "id": "d1d99770-d3ae-4a1b-939f-29c4225ecba0",
   "metadata": {},
   "outputs": [],
   "source": [
    "data_dir = r\"C:\\Users\\DeLL\\Documents\\Data Science\\Advanced AI\\CNN\\Transfer Learning\\brain_tumor_dataset\""
   ]
  },
  {
   "cell_type": "code",
   "execution_count": 15,
   "id": "34386ba4-72f6-4d5a-b4c3-30b1dc8742df",
   "metadata": {},
   "outputs": [],
   "source": [
    "df_no = pd.DataFrame({'image_names' : [file for file in os.listdir(os.path.join(data_dir, data_dir + '/' + 'no'))],\n",
    "                      'is_tumor' : [0 for _ in range(len(os.listdir(os.path.join(data_dir, data_dir + '/' + 'no'))))]})"
   ]
  },
  {
   "cell_type": "code",
   "execution_count": 16,
   "id": "e0a485d4-92f0-49a4-8f2a-f61ab1adfc3e",
   "metadata": {},
   "outputs": [
    {
     "data": {
      "text/html": [
       "<div>\n",
       "<style scoped>\n",
       "    .dataframe tbody tr th:only-of-type {\n",
       "        vertical-align: middle;\n",
       "    }\n",
       "\n",
       "    .dataframe tbody tr th {\n",
       "        vertical-align: top;\n",
       "    }\n",
       "\n",
       "    .dataframe thead th {\n",
       "        text-align: right;\n",
       "    }\n",
       "</style>\n",
       "<table border=\"1\" class=\"dataframe\">\n",
       "  <thead>\n",
       "    <tr style=\"text-align: right;\">\n",
       "      <th></th>\n",
       "      <th>image_names</th>\n",
       "      <th>is_tumor</th>\n",
       "    </tr>\n",
       "  </thead>\n",
       "  <tbody>\n",
       "    <tr>\n",
       "      <th>0</th>\n",
       "      <td>1 no.jpeg</td>\n",
       "      <td>0</td>\n",
       "    </tr>\n",
       "    <tr>\n",
       "      <th>1</th>\n",
       "      <td>10 no.jpg</td>\n",
       "      <td>0</td>\n",
       "    </tr>\n",
       "    <tr>\n",
       "      <th>2</th>\n",
       "      <td>11 no.jpg</td>\n",
       "      <td>0</td>\n",
       "    </tr>\n",
       "    <tr>\n",
       "      <th>3</th>\n",
       "      <td>12 no.jpg</td>\n",
       "      <td>0</td>\n",
       "    </tr>\n",
       "    <tr>\n",
       "      <th>4</th>\n",
       "      <td>13 no.jpg</td>\n",
       "      <td>0</td>\n",
       "    </tr>\n",
       "    <tr>\n",
       "      <th>...</th>\n",
       "      <td>...</td>\n",
       "      <td>...</td>\n",
       "    </tr>\n",
       "    <tr>\n",
       "      <th>93</th>\n",
       "      <td>No18.jpg</td>\n",
       "      <td>0</td>\n",
       "    </tr>\n",
       "    <tr>\n",
       "      <th>94</th>\n",
       "      <td>No19.jpg</td>\n",
       "      <td>0</td>\n",
       "    </tr>\n",
       "    <tr>\n",
       "      <th>95</th>\n",
       "      <td>No20.jpg</td>\n",
       "      <td>0</td>\n",
       "    </tr>\n",
       "    <tr>\n",
       "      <th>96</th>\n",
       "      <td>No21.jpg</td>\n",
       "      <td>0</td>\n",
       "    </tr>\n",
       "    <tr>\n",
       "      <th>97</th>\n",
       "      <td>No22.jpg</td>\n",
       "      <td>0</td>\n",
       "    </tr>\n",
       "  </tbody>\n",
       "</table>\n",
       "<p>98 rows × 2 columns</p>\n",
       "</div>"
      ],
      "text/plain": [
       "   image_names  is_tumor\n",
       "0    1 no.jpeg         0\n",
       "1    10 no.jpg         0\n",
       "2    11 no.jpg         0\n",
       "3    12 no.jpg         0\n",
       "4    13 no.jpg         0\n",
       "..         ...       ...\n",
       "93    No18.jpg         0\n",
       "94    No19.jpg         0\n",
       "95    No20.jpg         0\n",
       "96    No21.jpg         0\n",
       "97    No22.jpg         0\n",
       "\n",
       "[98 rows x 2 columns]"
      ]
     },
     "execution_count": 16,
     "metadata": {},
     "output_type": "execute_result"
    }
   ],
   "source": [
    "df_no"
   ]
  },
  {
   "cell_type": "code",
   "execution_count": 17,
   "id": "6609e135-1f3d-4475-8974-680b69f966c6",
   "metadata": {},
   "outputs": [],
   "source": [
    "df_yes = pd.DataFrame({'image_names' : [file for file in os.listdir(os.path.join(data_dir, data_dir + '/' + 'yes'))],\n",
    "                      'is_tumor' : [1 for _ in range(len(os.listdir(os.path.join(data_dir, data_dir + '/' + 'yes'))))]})"
   ]
  },
  {
   "cell_type": "code",
   "execution_count": 18,
   "id": "acb355c1-4a19-4755-a05e-f9f6d49e0801",
   "metadata": {},
   "outputs": [
    {
     "data": {
      "text/html": [
       "<div>\n",
       "<style scoped>\n",
       "    .dataframe tbody tr th:only-of-type {\n",
       "        vertical-align: middle;\n",
       "    }\n",
       "\n",
       "    .dataframe tbody tr th {\n",
       "        vertical-align: top;\n",
       "    }\n",
       "\n",
       "    .dataframe thead th {\n",
       "        text-align: right;\n",
       "    }\n",
       "</style>\n",
       "<table border=\"1\" class=\"dataframe\">\n",
       "  <thead>\n",
       "    <tr style=\"text-align: right;\">\n",
       "      <th></th>\n",
       "      <th>image_names</th>\n",
       "      <th>is_tumor</th>\n",
       "    </tr>\n",
       "  </thead>\n",
       "  <tbody>\n",
       "    <tr>\n",
       "      <th>0</th>\n",
       "      <td>Y1.jpg</td>\n",
       "      <td>1</td>\n",
       "    </tr>\n",
       "    <tr>\n",
       "      <th>1</th>\n",
       "      <td>Y10.jpg</td>\n",
       "      <td>1</td>\n",
       "    </tr>\n",
       "    <tr>\n",
       "      <th>2</th>\n",
       "      <td>Y100.JPG</td>\n",
       "      <td>1</td>\n",
       "    </tr>\n",
       "    <tr>\n",
       "      <th>3</th>\n",
       "      <td>Y101.jpg</td>\n",
       "      <td>1</td>\n",
       "    </tr>\n",
       "    <tr>\n",
       "      <th>4</th>\n",
       "      <td>Y102.jpg</td>\n",
       "      <td>1</td>\n",
       "    </tr>\n",
       "    <tr>\n",
       "      <th>...</th>\n",
       "      <td>...</td>\n",
       "      <td>...</td>\n",
       "    </tr>\n",
       "    <tr>\n",
       "      <th>150</th>\n",
       "      <td>Y95.jpg</td>\n",
       "      <td>1</td>\n",
       "    </tr>\n",
       "    <tr>\n",
       "      <th>151</th>\n",
       "      <td>Y96.jpg</td>\n",
       "      <td>1</td>\n",
       "    </tr>\n",
       "    <tr>\n",
       "      <th>152</th>\n",
       "      <td>Y97.JPG</td>\n",
       "      <td>1</td>\n",
       "    </tr>\n",
       "    <tr>\n",
       "      <th>153</th>\n",
       "      <td>Y98.JPG</td>\n",
       "      <td>1</td>\n",
       "    </tr>\n",
       "    <tr>\n",
       "      <th>154</th>\n",
       "      <td>Y99.JPG</td>\n",
       "      <td>1</td>\n",
       "    </tr>\n",
       "  </tbody>\n",
       "</table>\n",
       "<p>155 rows × 2 columns</p>\n",
       "</div>"
      ],
      "text/plain": [
       "    image_names  is_tumor\n",
       "0        Y1.jpg         1\n",
       "1       Y10.jpg         1\n",
       "2      Y100.JPG         1\n",
       "3      Y101.jpg         1\n",
       "4      Y102.jpg         1\n",
       "..          ...       ...\n",
       "150     Y95.jpg         1\n",
       "151     Y96.jpg         1\n",
       "152     Y97.JPG         1\n",
       "153     Y98.JPG         1\n",
       "154     Y99.JPG         1\n",
       "\n",
       "[155 rows x 2 columns]"
      ]
     },
     "execution_count": 18,
     "metadata": {},
     "output_type": "execute_result"
    }
   ],
   "source": [
    "df_yes"
   ]
  },
  {
   "cell_type": "code",
   "execution_count": 19,
   "id": "ae1f2df8-0d45-4dd9-9961-53c369ac3729",
   "metadata": {},
   "outputs": [],
   "source": [
    "df = pd.concat([df_no, df_yes], ignore_index = True)"
   ]
  },
  {
   "cell_type": "code",
   "execution_count": 20,
   "id": "064d4f8d-9ef6-4b09-805f-a6f3c27af554",
   "metadata": {},
   "outputs": [
    {
     "data": {
      "text/html": [
       "<div>\n",
       "<style scoped>\n",
       "    .dataframe tbody tr th:only-of-type {\n",
       "        vertical-align: middle;\n",
       "    }\n",
       "\n",
       "    .dataframe tbody tr th {\n",
       "        vertical-align: top;\n",
       "    }\n",
       "\n",
       "    .dataframe thead th {\n",
       "        text-align: right;\n",
       "    }\n",
       "</style>\n",
       "<table border=\"1\" class=\"dataframe\">\n",
       "  <thead>\n",
       "    <tr style=\"text-align: right;\">\n",
       "      <th></th>\n",
       "      <th>image_names</th>\n",
       "      <th>is_tumor</th>\n",
       "    </tr>\n",
       "  </thead>\n",
       "  <tbody>\n",
       "    <tr>\n",
       "      <th>0</th>\n",
       "      <td>1 no.jpeg</td>\n",
       "      <td>0</td>\n",
       "    </tr>\n",
       "    <tr>\n",
       "      <th>1</th>\n",
       "      <td>10 no.jpg</td>\n",
       "      <td>0</td>\n",
       "    </tr>\n",
       "    <tr>\n",
       "      <th>2</th>\n",
       "      <td>11 no.jpg</td>\n",
       "      <td>0</td>\n",
       "    </tr>\n",
       "    <tr>\n",
       "      <th>3</th>\n",
       "      <td>12 no.jpg</td>\n",
       "      <td>0</td>\n",
       "    </tr>\n",
       "    <tr>\n",
       "      <th>4</th>\n",
       "      <td>13 no.jpg</td>\n",
       "      <td>0</td>\n",
       "    </tr>\n",
       "    <tr>\n",
       "      <th>...</th>\n",
       "      <td>...</td>\n",
       "      <td>...</td>\n",
       "    </tr>\n",
       "    <tr>\n",
       "      <th>248</th>\n",
       "      <td>Y95.jpg</td>\n",
       "      <td>1</td>\n",
       "    </tr>\n",
       "    <tr>\n",
       "      <th>249</th>\n",
       "      <td>Y96.jpg</td>\n",
       "      <td>1</td>\n",
       "    </tr>\n",
       "    <tr>\n",
       "      <th>250</th>\n",
       "      <td>Y97.JPG</td>\n",
       "      <td>1</td>\n",
       "    </tr>\n",
       "    <tr>\n",
       "      <th>251</th>\n",
       "      <td>Y98.JPG</td>\n",
       "      <td>1</td>\n",
       "    </tr>\n",
       "    <tr>\n",
       "      <th>252</th>\n",
       "      <td>Y99.JPG</td>\n",
       "      <td>1</td>\n",
       "    </tr>\n",
       "  </tbody>\n",
       "</table>\n",
       "<p>253 rows × 2 columns</p>\n",
       "</div>"
      ],
      "text/plain": [
       "    image_names  is_tumor\n",
       "0     1 no.jpeg         0\n",
       "1     10 no.jpg         0\n",
       "2     11 no.jpg         0\n",
       "3     12 no.jpg         0\n",
       "4     13 no.jpg         0\n",
       "..          ...       ...\n",
       "248     Y95.jpg         1\n",
       "249     Y96.jpg         1\n",
       "250     Y97.JPG         1\n",
       "251     Y98.JPG         1\n",
       "252     Y99.JPG         1\n",
       "\n",
       "[253 rows x 2 columns]"
      ]
     },
     "execution_count": 20,
     "metadata": {},
     "output_type": "execute_result"
    }
   ],
   "source": [
    "df"
   ]
  },
  {
   "cell_type": "code",
   "execution_count": 21,
   "id": "662102e9-a7ae-4a72-92a4-af9865958338",
   "metadata": {},
   "outputs": [
    {
     "data": {
      "text/plain": [
       "is_tumor\n",
       "1    155\n",
       "0     98\n",
       "Name: count, dtype: int64"
      ]
     },
     "execution_count": 21,
     "metadata": {},
     "output_type": "execute_result"
    }
   ],
   "source": [
    "df['is_tumor'].value_counts()"
   ]
  },
  {
   "cell_type": "code",
   "execution_count": 22,
   "id": "5fb9debf-c902-4ca1-b780-5eb02d2276ac",
   "metadata": {},
   "outputs": [],
   "source": [
    "from tensorflow.keras.preprocessing.image import ImageDataGenerator, load_img, save_img, img_to_array, array_to_img"
   ]
  },
  {
   "cell_type": "code",
   "execution_count": 43,
   "id": "252357da-1faa-4db3-8401-24c99d70c23b",
   "metadata": {},
   "outputs": [],
   "source": [
    "df['image_paths'] = np.where(df['image_names'] == 0, data_dir + '\\\\no\\\\' + df['image_names'], data_dir + '\\\\yes\\\\' + df['image_names'])"
   ]
  },
  {
   "cell_type": "code",
   "execution_count": 50,
   "id": "cf6b9fe8-5fa0-4086-b64b-7af0e54033f2",
   "metadata": {},
   "outputs": [
    {
     "data": {
      "text/html": [
       "<div>\n",
       "<style scoped>\n",
       "    .dataframe tbody tr th:only-of-type {\n",
       "        vertical-align: middle;\n",
       "    }\n",
       "\n",
       "    .dataframe tbody tr th {\n",
       "        vertical-align: top;\n",
       "    }\n",
       "\n",
       "    .dataframe thead th {\n",
       "        text-align: right;\n",
       "    }\n",
       "</style>\n",
       "<table border=\"1\" class=\"dataframe\">\n",
       "  <thead>\n",
       "    <tr style=\"text-align: right;\">\n",
       "      <th></th>\n",
       "      <th>image_names</th>\n",
       "      <th>is_tumor</th>\n",
       "      <th>image_paths</th>\n",
       "    </tr>\n",
       "  </thead>\n",
       "  <tbody>\n",
       "    <tr>\n",
       "      <th>0</th>\n",
       "      <td>1 no.jpeg</td>\n",
       "      <td>0</td>\n",
       "      <td>C:\\Users\\DeLL\\Documents\\Data Science\\Advanced ...</td>\n",
       "    </tr>\n",
       "    <tr>\n",
       "      <th>1</th>\n",
       "      <td>10 no.jpg</td>\n",
       "      <td>0</td>\n",
       "      <td>C:\\Users\\DeLL\\Documents\\Data Science\\Advanced ...</td>\n",
       "    </tr>\n",
       "    <tr>\n",
       "      <th>2</th>\n",
       "      <td>11 no.jpg</td>\n",
       "      <td>0</td>\n",
       "      <td>C:\\Users\\DeLL\\Documents\\Data Science\\Advanced ...</td>\n",
       "    </tr>\n",
       "    <tr>\n",
       "      <th>3</th>\n",
       "      <td>12 no.jpg</td>\n",
       "      <td>0</td>\n",
       "      <td>C:\\Users\\DeLL\\Documents\\Data Science\\Advanced ...</td>\n",
       "    </tr>\n",
       "    <tr>\n",
       "      <th>4</th>\n",
       "      <td>13 no.jpg</td>\n",
       "      <td>0</td>\n",
       "      <td>C:\\Users\\DeLL\\Documents\\Data Science\\Advanced ...</td>\n",
       "    </tr>\n",
       "    <tr>\n",
       "      <th>...</th>\n",
       "      <td>...</td>\n",
       "      <td>...</td>\n",
       "      <td>...</td>\n",
       "    </tr>\n",
       "    <tr>\n",
       "      <th>248</th>\n",
       "      <td>Y95.jpg</td>\n",
       "      <td>1</td>\n",
       "      <td>C:\\Users\\DeLL\\Documents\\Data Science\\Advanced ...</td>\n",
       "    </tr>\n",
       "    <tr>\n",
       "      <th>249</th>\n",
       "      <td>Y96.jpg</td>\n",
       "      <td>1</td>\n",
       "      <td>C:\\Users\\DeLL\\Documents\\Data Science\\Advanced ...</td>\n",
       "    </tr>\n",
       "    <tr>\n",
       "      <th>250</th>\n",
       "      <td>Y97.JPG</td>\n",
       "      <td>1</td>\n",
       "      <td>C:\\Users\\DeLL\\Documents\\Data Science\\Advanced ...</td>\n",
       "    </tr>\n",
       "    <tr>\n",
       "      <th>251</th>\n",
       "      <td>Y98.JPG</td>\n",
       "      <td>1</td>\n",
       "      <td>C:\\Users\\DeLL\\Documents\\Data Science\\Advanced ...</td>\n",
       "    </tr>\n",
       "    <tr>\n",
       "      <th>252</th>\n",
       "      <td>Y99.JPG</td>\n",
       "      <td>1</td>\n",
       "      <td>C:\\Users\\DeLL\\Documents\\Data Science\\Advanced ...</td>\n",
       "    </tr>\n",
       "  </tbody>\n",
       "</table>\n",
       "<p>253 rows × 3 columns</p>\n",
       "</div>"
      ],
      "text/plain": [
       "    image_names  is_tumor                                        image_paths\n",
       "0     1 no.jpeg         0  C:\\Users\\DeLL\\Documents\\Data Science\\Advanced ...\n",
       "1     10 no.jpg         0  C:\\Users\\DeLL\\Documents\\Data Science\\Advanced ...\n",
       "2     11 no.jpg         0  C:\\Users\\DeLL\\Documents\\Data Science\\Advanced ...\n",
       "3     12 no.jpg         0  C:\\Users\\DeLL\\Documents\\Data Science\\Advanced ...\n",
       "4     13 no.jpg         0  C:\\Users\\DeLL\\Documents\\Data Science\\Advanced ...\n",
       "..          ...       ...                                                ...\n",
       "248     Y95.jpg         1  C:\\Users\\DeLL\\Documents\\Data Science\\Advanced ...\n",
       "249     Y96.jpg         1  C:\\Users\\DeLL\\Documents\\Data Science\\Advanced ...\n",
       "250     Y97.JPG         1  C:\\Users\\DeLL\\Documents\\Data Science\\Advanced ...\n",
       "251     Y98.JPG         1  C:\\Users\\DeLL\\Documents\\Data Science\\Advanced ...\n",
       "252     Y99.JPG         1  C:\\Users\\DeLL\\Documents\\Data Science\\Advanced ...\n",
       "\n",
       "[253 rows x 3 columns]"
      ]
     },
     "execution_count": 50,
     "metadata": {},
     "output_type": "execute_result"
    }
   ],
   "source": [
    "aug_dir = "
   ]
  },
  {
   "cell_type": "code",
   "execution_count": 65,
   "id": "e3301e7f-901c-4265-98a6-3cdd5a2900ac",
   "metadata": {},
   "outputs": [],
   "source": [
    "aug_dir = r\"C:\\Users\\DeLL\\Documents\\Data Science\\Advanced AI\\CNN\\Transfer Learning\\aug_dir\"\n",
    "os.makedirs(aug_dir, exist_ok = True)"
   ]
  },
  {
   "cell_type": "code",
   "execution_count": 53,
   "id": "5e6d1772-9668-4f72-93af-18aa70a3dd8b",
   "metadata": {},
   "outputs": [
    {
     "data": {
      "text/plain": [
       "57"
      ]
     },
     "execution_count": 53,
     "metadata": {},
     "output_type": "execute_result"
    }
   ],
   "source": [
    "minority_class_count = df['is_tumor'].value_counts().min()\n",
    "majority_class_count = df['is_tumor'].value_counts().max()\n",
    "num_augmented_images = majority_class_count - minority_class_count\n",
    "num_augmented_images"
   ]
  },
  {
   "cell_type": "code",
   "execution_count": 54,
   "id": "ff6f7819-96df-40c9-b6fc-073057874959",
   "metadata": {},
   "outputs": [],
   "source": [
    "minority_images = df[df['is_tumor'] == 0]['image_names']"
   ]
  },
  {
   "cell_type": "code",
   "execution_count": 66,
   "id": "fb591c70-7ffd-46ab-a3eb-aacb916360d7",
   "metadata": {},
   "outputs": [],
   "source": [
    "datagen = ImageDataGenerator(\n",
    "    rotation_range=10,\n",
    "    width_shift_range=0.1,\n",
    "    height_shift_range=0.1,\n",
    "    zoom_range=0.1,\n",
    "    fill_mode='constant',    # Avoid interpolation artifacts\n",
    "    cval=0,                  # Fill black areas with 0 (black)\n",
    "    brightness_range=[0.9, 1.1]  # Slight brightness adjustment\n",
    ")"
   ]
  },
  {
   "cell_type": "code",
   "execution_count": 67,
   "id": "5ca7e409-e45d-40b3-8b6c-4c6936e82649",
   "metadata": {},
   "outputs": [
    {
     "name": "stdout",
     "output_type": "stream",
     "text": [
      "Generated 57 images\n"
     ]
    }
   ],
   "source": [
    "current_count = 0\n",
    "for image in minority_images:\n",
    "    if current_count >= num_augmented_images:\n",
    "        break\n",
    "\n",
    "    image_path = os.path.join(data_dir,  'no', image)\n",
    "    img = load_img(image_path, color_mode = 'rgb')\n",
    "    img_array = img_to_array(img)/255.0\n",
    "    img_array = np.expand_dims(img_array, axis = 0)\n",
    "\n",
    "    for _ in range(num_augmented_images - current_count):\n",
    "        aug_image = next(datagen.flow(img_array, batch_size = 1))[0].astype('uint8')\n",
    "        save_img(os.path.join(aug_dir, f'aug_{current_count}.jpg'), aug_image)\n",
    "        current_count += 1\n",
    "        if current_count >= num_augmented_images:\n",
    "            break\n",
    "\n",
    "print(f'Generated {num_augmented_images} images')\n",
    "    "
   ]
  },
  {
   "cell_type": "code",
   "execution_count": null,
   "id": "37f7fd45-8795-429d-a987-4029ef2c3122",
   "metadata": {},
   "outputs": [],
   "source": [
    "df_aug = pd.DataFrame({'image_names' : [file for file in os.listdir(os.path.join(aug_dir"
   ]
  },
  {
   "cell_type": "code",
   "execution_count": null,
   "id": "29dd9b3d-b217-4d4a-ade0-c3f154746586",
   "metadata": {},
   "outputs": [],
   "source": []
  },
  {
   "cell_type": "code",
   "execution_count": null,
   "id": "c851df54-283c-47d0-b2a5-4e1afbd4a912",
   "metadata": {},
   "outputs": [],
   "source": []
  },
  {
   "cell_type": "code",
   "execution_count": 86,
   "id": "55c0277f-93a5-42e5-9a85-8f5c67875d85",
   "metadata": {},
   "outputs": [
    {
     "data": {
      "text/html": [
       "<div>\n",
       "<style scoped>\n",
       "    .dataframe tbody tr th:only-of-type {\n",
       "        vertical-align: middle;\n",
       "    }\n",
       "\n",
       "    .dataframe tbody tr th {\n",
       "        vertical-align: top;\n",
       "    }\n",
       "\n",
       "    .dataframe thead th {\n",
       "        text-align: right;\n",
       "    }\n",
       "</style>\n",
       "<table border=\"1\" class=\"dataframe\">\n",
       "  <thead>\n",
       "    <tr style=\"text-align: right;\">\n",
       "      <th></th>\n",
       "      <th>image_names</th>\n",
       "      <th>emergency_or_not</th>\n",
       "    </tr>\n",
       "  </thead>\n",
       "  <tbody>\n",
       "    <tr>\n",
       "      <th>0</th>\n",
       "      <td>0.jpg</td>\n",
       "      <td>1</td>\n",
       "    </tr>\n",
       "    <tr>\n",
       "      <th>1</th>\n",
       "      <td>1.jpg</td>\n",
       "      <td>1</td>\n",
       "    </tr>\n",
       "    <tr>\n",
       "      <th>2</th>\n",
       "      <td>2.jpg</td>\n",
       "      <td>1</td>\n",
       "    </tr>\n",
       "    <tr>\n",
       "      <th>3</th>\n",
       "      <td>3.jpg</td>\n",
       "      <td>1</td>\n",
       "    </tr>\n",
       "    <tr>\n",
       "      <th>4</th>\n",
       "      <td>4.jpg</td>\n",
       "      <td>1</td>\n",
       "    </tr>\n",
       "  </tbody>\n",
       "</table>\n",
       "</div>"
      ],
      "text/plain": [
       "  image_names  emergency_or_not\n",
       "0       0.jpg                 1\n",
       "1       1.jpg                 1\n",
       "2       2.jpg                 1\n",
       "3       3.jpg                 1\n",
       "4       4.jpg                 1"
      ]
     },
     "execution_count": 86,
     "metadata": {},
     "output_type": "execute_result"
    }
   ],
   "source": [
    "df = pd.read_csv(r\"C:\\Users\\DeLL\\Documents\\Data Science\\Advanced AI\\CNN\\Transfer Learning\\emergency_classification.csv\")\n",
    "df.head()"
   ]
  },
  {
   "cell_type": "code",
   "execution_count": 87,
   "id": "97e63786-a421-43eb-90ee-4bd3d66eb63d",
   "metadata": {},
   "outputs": [
    {
     "data": {
      "text/plain": [
       "emergency_or_not\n",
       "0    1361\n",
       "1     991\n",
       "Name: count, dtype: int64"
      ]
     },
     "execution_count": 87,
     "metadata": {},
     "output_type": "execute_result"
    }
   ],
   "source": [
    "df['emergency_or_not'].value_counts()"
   ]
  },
  {
   "cell_type": "code",
   "execution_count": 128,
   "id": "672207c6-2ac4-4bf1-b0e1-b97733bf5c09",
   "metadata": {},
   "outputs": [],
   "source": [
    "data_dir = r\"C:\\Users\\DeLL\\Documents\\Data Science\\Advanced AI\\CNN\\Transfer Learning\\images\"\n",
    "aug_dir = r\"C:\\Users\\DeLL\\Documents\\Data Science\\Advanced AI\\CNN\\Transfer Learning\\aug_dir\"\n",
    "os.makedirs(aug_dir, exist_ok = True)"
   ]
  },
  {
   "cell_type": "code",
   "execution_count": 129,
   "id": "8ab4ced8-a619-4ed4-a103-4463057bc8d9",
   "metadata": {},
   "outputs": [
    {
     "data": {
      "text/plain": [
       "370"
      ]
     },
     "execution_count": 129,
     "metadata": {},
     "output_type": "execute_result"
    }
   ],
   "source": [
    "minority_class_count = df['emergency_or_not'].value_counts().min()\n",
    "majority_class_count = df['emergency_or_not'].value_counts().max()\n",
    "num_augmented_images = majority_class_count - minority_class_count\n",
    "num_augmented_images"
   ]
  },
  {
   "cell_type": "code",
   "execution_count": 130,
   "id": "4cd7296c-82a3-4640-8f83-691b17fbbc6a",
   "metadata": {},
   "outputs": [],
   "source": [
    "minority_images = df[df['emergency_or_not'] == 1]['image_names']"
   ]
  },
  {
   "cell_type": "code",
   "execution_count": 131,
   "id": "134ae0f0-a711-4ad4-ae41-2bfa0fc7dbee",
   "metadata": {},
   "outputs": [],
   "source": [
    "datagen = ImageDataGenerator(rotation_range=38,\n",
    "    width_shift_range=0.2,\n",
    "    height_shift_range=0.3,\n",
    "    shear_range=0.24,\n",
    "    zoom_range=0.39,\n",
    "    fill_mode='nearest',\n",
    "    horizontal_flip=True,\n",
    "    vertical_flip=True)"
   ]
  },
  {
   "cell_type": "code",
   "execution_count": 132,
   "id": "a978844a-99a8-41ea-bd72-97897948af11",
   "metadata": {},
   "outputs": [
    {
     "name": "stdout",
     "output_type": "stream",
     "text": [
      "Generated 370 augmented images.\n"
     ]
    }
   ],
   "source": [
    "images_per_image = num_augmented_images // len(minority_images) + 1  # Slightly overshoot\n",
    "\n",
    "# Generate augmented images\n",
    "current_count = 0\n",
    "for image_name in minority_images:\n",
    "    if current_count >= num_augmented_images:\n",
    "        break\n",
    "\n",
    "    # Load image\n",
    "    img_path = os.path.join(data_dir, image_name)\n",
    "    img = load_img(img_path)  # Add `color_mode='grayscale'` if images are grayscale\n",
    "    img_arr = img_to_array(img)\n",
    "    img_arr = np.expand_dims(img_arr, axis=0)\n",
    "\n",
    "    # Augment and save images\n",
    "    for _ in range(images_per_image):\n",
    "        if current_count >= num_augmented_images:\n",
    "            break\n",
    "        aug_img = next(datagen.flow(img_arr, batch_size=1))[0].astype('uint8')\n",
    "        save_img(os.path.join(aug_dir, f'aug_{current_count}.jpg'), aug_img)\n",
    "        current_count += 1\n",
    "\n",
    "print(f\"Generated {current_count} augmented images.\")"
   ]
  },
  {
   "cell_type": "code",
   "execution_count": 133,
   "id": "fbdc36e6-56aa-4c0e-b9f7-7f6e5674bba1",
   "metadata": {},
   "outputs": [],
   "source": [
    "aug_df = pd.DataFrame({'image_names' : [file for file in os.listdir(aug_dir)],\n",
    "                       'emergency_or_not' : [1 for _ in range(len(os.listdir(aug_dir)))]})"
   ]
  },
  {
   "cell_type": "code",
   "execution_count": 134,
   "id": "5319b7cc-3e75-4d11-9d76-b4f0219fcfd9",
   "metadata": {},
   "outputs": [],
   "source": [
    "aug_df['image_paths'] = aug_df['image_names'].apply(lambda x : aug_dir + '\\\\' + x)"
   ]
  },
  {
   "cell_type": "code",
   "execution_count": 135,
   "id": "626fe59d-9a65-45ba-8542-29c3aa601754",
   "metadata": {},
   "outputs": [
    {
     "data": {
      "text/plain": [
       "'C:\\\\Users\\\\DeLL\\\\Documents\\\\Data Science\\\\Advanced AI\\\\CNN\\\\Transfer Learning\\\\aug_dir\\\\aug_0.jpg'"
      ]
     },
     "execution_count": 135,
     "metadata": {},
     "output_type": "execute_result"
    }
   ],
   "source": [
    "aug_df['image_paths'][0]"
   ]
  },
  {
   "cell_type": "code",
   "execution_count": 137,
   "id": "c943e747-3201-4b33-8844-cd2371fccc74",
   "metadata": {},
   "outputs": [],
   "source": [
    "df['image_paths'] = df['image_names'].apply(lambda x : data_dir + '\\\\' + x)"
   ]
  },
  {
   "cell_type": "code",
   "execution_count": 139,
   "id": "239e8d50-8891-41a5-b3a6-c5019c5e8356",
   "metadata": {},
   "outputs": [
    {
     "data": {
      "text/plain": [
       "'C:\\\\Users\\\\DeLL\\\\Documents\\\\Data Science\\\\Advanced AI\\\\CNN\\\\Transfer Learning\\\\images\\\\0.jpg'"
      ]
     },
     "execution_count": 139,
     "metadata": {},
     "output_type": "execute_result"
    }
   ],
   "source": [
    "df['image_paths'][0]"
   ]
  },
  {
   "cell_type": "code",
   "execution_count": 140,
   "id": "37049489-7ce0-49ec-8334-443e6b57f526",
   "metadata": {},
   "outputs": [],
   "source": [
    "comb_df = pd.concat([df, aug_df], ignore_index = True)"
   ]
  },
  {
   "cell_type": "code",
   "execution_count": 141,
   "id": "611b861a-ccf3-472a-a12b-0effa4f54808",
   "metadata": {},
   "outputs": [
    {
     "data": {
      "text/plain": [
       "emergency_or_not\n",
       "1    1361\n",
       "0    1361\n",
       "Name: count, dtype: int64"
      ]
     },
     "execution_count": 141,
     "metadata": {},
     "output_type": "execute_result"
    }
   ],
   "source": [
    "comb_df['emergency_or_not'].value_counts()"
   ]
  },
  {
   "cell_type": "code",
   "execution_count": 142,
   "id": "a62da12b-8c00-454c-a957-29f143d3aab8",
   "metadata": {},
   "outputs": [
    {
     "data": {
      "text/html": [
       "<div>\n",
       "<style scoped>\n",
       "    .dataframe tbody tr th:only-of-type {\n",
       "        vertical-align: middle;\n",
       "    }\n",
       "\n",
       "    .dataframe tbody tr th {\n",
       "        vertical-align: top;\n",
       "    }\n",
       "\n",
       "    .dataframe thead th {\n",
       "        text-align: right;\n",
       "    }\n",
       "</style>\n",
       "<table border=\"1\" class=\"dataframe\">\n",
       "  <thead>\n",
       "    <tr style=\"text-align: right;\">\n",
       "      <th></th>\n",
       "      <th>image_names</th>\n",
       "      <th>emergency_or_not</th>\n",
       "      <th>image_paths</th>\n",
       "    </tr>\n",
       "  </thead>\n",
       "  <tbody>\n",
       "    <tr>\n",
       "      <th>0</th>\n",
       "      <td>0.jpg</td>\n",
       "      <td>1</td>\n",
       "      <td>C:\\Users\\DeLL\\Documents\\Data Science\\Advanced ...</td>\n",
       "    </tr>\n",
       "    <tr>\n",
       "      <th>1</th>\n",
       "      <td>1.jpg</td>\n",
       "      <td>1</td>\n",
       "      <td>C:\\Users\\DeLL\\Documents\\Data Science\\Advanced ...</td>\n",
       "    </tr>\n",
       "    <tr>\n",
       "      <th>2</th>\n",
       "      <td>2.jpg</td>\n",
       "      <td>1</td>\n",
       "      <td>C:\\Users\\DeLL\\Documents\\Data Science\\Advanced ...</td>\n",
       "    </tr>\n",
       "    <tr>\n",
       "      <th>3</th>\n",
       "      <td>3.jpg</td>\n",
       "      <td>1</td>\n",
       "      <td>C:\\Users\\DeLL\\Documents\\Data Science\\Advanced ...</td>\n",
       "    </tr>\n",
       "    <tr>\n",
       "      <th>4</th>\n",
       "      <td>4.jpg</td>\n",
       "      <td>1</td>\n",
       "      <td>C:\\Users\\DeLL\\Documents\\Data Science\\Advanced ...</td>\n",
       "    </tr>\n",
       "    <tr>\n",
       "      <th>...</th>\n",
       "      <td>...</td>\n",
       "      <td>...</td>\n",
       "      <td>...</td>\n",
       "    </tr>\n",
       "    <tr>\n",
       "      <th>2717</th>\n",
       "      <td>aug_95.jpg</td>\n",
       "      <td>1</td>\n",
       "      <td>C:\\Users\\DeLL\\Documents\\Data Science\\Advanced ...</td>\n",
       "    </tr>\n",
       "    <tr>\n",
       "      <th>2718</th>\n",
       "      <td>aug_96.jpg</td>\n",
       "      <td>1</td>\n",
       "      <td>C:\\Users\\DeLL\\Documents\\Data Science\\Advanced ...</td>\n",
       "    </tr>\n",
       "    <tr>\n",
       "      <th>2719</th>\n",
       "      <td>aug_97.jpg</td>\n",
       "      <td>1</td>\n",
       "      <td>C:\\Users\\DeLL\\Documents\\Data Science\\Advanced ...</td>\n",
       "    </tr>\n",
       "    <tr>\n",
       "      <th>2720</th>\n",
       "      <td>aug_98.jpg</td>\n",
       "      <td>1</td>\n",
       "      <td>C:\\Users\\DeLL\\Documents\\Data Science\\Advanced ...</td>\n",
       "    </tr>\n",
       "    <tr>\n",
       "      <th>2721</th>\n",
       "      <td>aug_99.jpg</td>\n",
       "      <td>1</td>\n",
       "      <td>C:\\Users\\DeLL\\Documents\\Data Science\\Advanced ...</td>\n",
       "    </tr>\n",
       "  </tbody>\n",
       "</table>\n",
       "<p>2722 rows × 3 columns</p>\n",
       "</div>"
      ],
      "text/plain": [
       "     image_names  emergency_or_not  \\\n",
       "0          0.jpg                 1   \n",
       "1          1.jpg                 1   \n",
       "2          2.jpg                 1   \n",
       "3          3.jpg                 1   \n",
       "4          4.jpg                 1   \n",
       "...          ...               ...   \n",
       "2717  aug_95.jpg                 1   \n",
       "2718  aug_96.jpg                 1   \n",
       "2719  aug_97.jpg                 1   \n",
       "2720  aug_98.jpg                 1   \n",
       "2721  aug_99.jpg                 1   \n",
       "\n",
       "                                            image_paths  \n",
       "0     C:\\Users\\DeLL\\Documents\\Data Science\\Advanced ...  \n",
       "1     C:\\Users\\DeLL\\Documents\\Data Science\\Advanced ...  \n",
       "2     C:\\Users\\DeLL\\Documents\\Data Science\\Advanced ...  \n",
       "3     C:\\Users\\DeLL\\Documents\\Data Science\\Advanced ...  \n",
       "4     C:\\Users\\DeLL\\Documents\\Data Science\\Advanced ...  \n",
       "...                                                 ...  \n",
       "2717  C:\\Users\\DeLL\\Documents\\Data Science\\Advanced ...  \n",
       "2718  C:\\Users\\DeLL\\Documents\\Data Science\\Advanced ...  \n",
       "2719  C:\\Users\\DeLL\\Documents\\Data Science\\Advanced ...  \n",
       "2720  C:\\Users\\DeLL\\Documents\\Data Science\\Advanced ...  \n",
       "2721  C:\\Users\\DeLL\\Documents\\Data Science\\Advanced ...  \n",
       "\n",
       "[2722 rows x 3 columns]"
      ]
     },
     "execution_count": 142,
     "metadata": {},
     "output_type": "execute_result"
    }
   ],
   "source": [
    "comb_df"
   ]
  },
  {
   "cell_type": "markdown",
   "id": "3b2b6f3f-78fc-4359-bbf6-94e6d2a7c9aa",
   "metadata": {},
   "source": [
    "# Tranfer Learning"
   ]
  },
  {
   "cell_type": "code",
   "execution_count": null,
   "id": "7ef88893-72a2-42f0-b664-4dda0a34a8cb",
   "metadata": {},
   "outputs": [],
   "source": [
    "from keras.application.vgg16 "
   ]
  }
 ],
 "metadata": {
  "kernelspec": {
   "display_name": "Python 3 (ipykernel)",
   "language": "python",
   "name": "python3"
  },
  "language_info": {
   "codemirror_mode": {
    "name": "ipython",
    "version": 3
   },
   "file_extension": ".py",
   "mimetype": "text/x-python",
   "name": "python",
   "nbconvert_exporter": "python",
   "pygments_lexer": "ipython3",
   "version": "3.12.3"
  }
 },
 "nbformat": 4,
 "nbformat_minor": 5
}
